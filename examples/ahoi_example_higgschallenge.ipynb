{
 "cells": [
  {
   "cell_type": "code",
   "execution_count": 1,
   "metadata": {},
   "outputs": [],
   "source": [
    "import ahoi\n",
    "import os\n",
    "import pandas as pd\n",
    "import numpy as np\n",
    "from tqdm.notebook import tqdm\n",
    "from sklearn.ensemble import GradientBoostingClassifier\n",
    "import sklearn.metrics\n",
    "import matplotlib.pyplot as plt"
   ]
  },
  {
   "cell_type": "markdown",
   "metadata": {},
   "source": [
    "# Kaggle Higgs challenge - cut based optimization with `ahoi`\n",
    "The Data is available from the [CERN Open Data Portal](http://opendata.cern.ch/record/328)"
   ]
  },
  {
   "cell_type": "code",
   "execution_count": 2,
   "metadata": {},
   "outputs": [],
   "source": [
    "import urllib\n",
    "filename = \"/tmp/atlas-higgs-challenge-2014-v2.csv.gz\"\n",
    "if not os.path.exists(filename):\n",
    "    urllib.request.urlretrieve(\n",
    "        \"http://opendata.cern.ch/record/328/files/atlas-higgs-challenge-2014-v2.csv.gz\",\n",
    "        filename=filename\n",
    "    )\n",
    "df = pd.read_csv('data/atlas-higgs-challenge-2014-v2.csv.gz')"
   ]
  },
  {
   "cell_type": "code",
   "execution_count": 3,
   "metadata": {},
   "outputs": [
    {
     "data": {
      "text/html": [
       "<div>\n",
       "<style scoped>\n",
       "    .dataframe tbody tr th:only-of-type {\n",
       "        vertical-align: middle;\n",
       "    }\n",
       "\n",
       "    .dataframe tbody tr th {\n",
       "        vertical-align: top;\n",
       "    }\n",
       "\n",
       "    .dataframe thead th {\n",
       "        text-align: right;\n",
       "    }\n",
       "</style>\n",
       "<table border=\"1\" class=\"dataframe\">\n",
       "  <thead>\n",
       "    <tr style=\"text-align: right;\">\n",
       "      <th></th>\n",
       "      <th>EventId</th>\n",
       "      <th>DER_mass_MMC</th>\n",
       "      <th>DER_mass_transverse_met_lep</th>\n",
       "      <th>DER_mass_vis</th>\n",
       "      <th>DER_pt_h</th>\n",
       "      <th>DER_deltaeta_jet_jet</th>\n",
       "      <th>DER_mass_jet_jet</th>\n",
       "      <th>DER_prodeta_jet_jet</th>\n",
       "      <th>DER_deltar_tau_lep</th>\n",
       "      <th>DER_pt_tot</th>\n",
       "      <th>...</th>\n",
       "      <th>PRI_jet_leading_eta</th>\n",
       "      <th>PRI_jet_leading_phi</th>\n",
       "      <th>PRI_jet_subleading_pt</th>\n",
       "      <th>PRI_jet_subleading_eta</th>\n",
       "      <th>PRI_jet_subleading_phi</th>\n",
       "      <th>PRI_jet_all_pt</th>\n",
       "      <th>Weight</th>\n",
       "      <th>Label</th>\n",
       "      <th>KaggleSet</th>\n",
       "      <th>KaggleWeight</th>\n",
       "    </tr>\n",
       "  </thead>\n",
       "  <tbody>\n",
       "    <tr>\n",
       "      <th>0</th>\n",
       "      <td>100000</td>\n",
       "      <td>138.470</td>\n",
       "      <td>51.655</td>\n",
       "      <td>97.827</td>\n",
       "      <td>27.980</td>\n",
       "      <td>0.91</td>\n",
       "      <td>124.711</td>\n",
       "      <td>2.666</td>\n",
       "      <td>3.064</td>\n",
       "      <td>41.928</td>\n",
       "      <td>...</td>\n",
       "      <td>2.150</td>\n",
       "      <td>0.444</td>\n",
       "      <td>46.062</td>\n",
       "      <td>1.24</td>\n",
       "      <td>-2.475</td>\n",
       "      <td>113.497</td>\n",
       "      <td>0.000814</td>\n",
       "      <td>s</td>\n",
       "      <td>t</td>\n",
       "      <td>0.002653</td>\n",
       "    </tr>\n",
       "    <tr>\n",
       "      <th>1</th>\n",
       "      <td>100001</td>\n",
       "      <td>160.937</td>\n",
       "      <td>68.768</td>\n",
       "      <td>103.235</td>\n",
       "      <td>48.146</td>\n",
       "      <td>-999.00</td>\n",
       "      <td>-999.000</td>\n",
       "      <td>-999.000</td>\n",
       "      <td>3.473</td>\n",
       "      <td>2.078</td>\n",
       "      <td>...</td>\n",
       "      <td>0.725</td>\n",
       "      <td>1.158</td>\n",
       "      <td>-999.000</td>\n",
       "      <td>-999.00</td>\n",
       "      <td>-999.000</td>\n",
       "      <td>46.226</td>\n",
       "      <td>0.681042</td>\n",
       "      <td>b</td>\n",
       "      <td>t</td>\n",
       "      <td>2.233584</td>\n",
       "    </tr>\n",
       "    <tr>\n",
       "      <th>2</th>\n",
       "      <td>100002</td>\n",
       "      <td>-999.000</td>\n",
       "      <td>162.172</td>\n",
       "      <td>125.953</td>\n",
       "      <td>35.635</td>\n",
       "      <td>-999.00</td>\n",
       "      <td>-999.000</td>\n",
       "      <td>-999.000</td>\n",
       "      <td>3.148</td>\n",
       "      <td>9.336</td>\n",
       "      <td>...</td>\n",
       "      <td>2.053</td>\n",
       "      <td>-2.028</td>\n",
       "      <td>-999.000</td>\n",
       "      <td>-999.00</td>\n",
       "      <td>-999.000</td>\n",
       "      <td>44.251</td>\n",
       "      <td>0.715742</td>\n",
       "      <td>b</td>\n",
       "      <td>t</td>\n",
       "      <td>2.347389</td>\n",
       "    </tr>\n",
       "    <tr>\n",
       "      <th>3</th>\n",
       "      <td>100003</td>\n",
       "      <td>143.905</td>\n",
       "      <td>81.417</td>\n",
       "      <td>80.943</td>\n",
       "      <td>0.414</td>\n",
       "      <td>-999.00</td>\n",
       "      <td>-999.000</td>\n",
       "      <td>-999.000</td>\n",
       "      <td>3.310</td>\n",
       "      <td>0.414</td>\n",
       "      <td>...</td>\n",
       "      <td>-999.000</td>\n",
       "      <td>-999.000</td>\n",
       "      <td>-999.000</td>\n",
       "      <td>-999.00</td>\n",
       "      <td>-999.000</td>\n",
       "      <td>-0.000</td>\n",
       "      <td>1.660654</td>\n",
       "      <td>b</td>\n",
       "      <td>t</td>\n",
       "      <td>5.446378</td>\n",
       "    </tr>\n",
       "    <tr>\n",
       "      <th>4</th>\n",
       "      <td>100004</td>\n",
       "      <td>175.864</td>\n",
       "      <td>16.915</td>\n",
       "      <td>134.805</td>\n",
       "      <td>16.405</td>\n",
       "      <td>-999.00</td>\n",
       "      <td>-999.000</td>\n",
       "      <td>-999.000</td>\n",
       "      <td>3.891</td>\n",
       "      <td>16.405</td>\n",
       "      <td>...</td>\n",
       "      <td>-999.000</td>\n",
       "      <td>-999.000</td>\n",
       "      <td>-999.000</td>\n",
       "      <td>-999.00</td>\n",
       "      <td>-999.000</td>\n",
       "      <td>0.000</td>\n",
       "      <td>1.904263</td>\n",
       "      <td>b</td>\n",
       "      <td>t</td>\n",
       "      <td>6.245333</td>\n",
       "    </tr>\n",
       "  </tbody>\n",
       "</table>\n",
       "<p>5 rows × 35 columns</p>\n",
       "</div>"
      ],
      "text/plain": [
       "   EventId  DER_mass_MMC  DER_mass_transverse_met_lep  DER_mass_vis  DER_pt_h  \\\n",
       "0   100000       138.470                       51.655        97.827    27.980   \n",
       "1   100001       160.937                       68.768       103.235    48.146   \n",
       "2   100002      -999.000                      162.172       125.953    35.635   \n",
       "3   100003       143.905                       81.417        80.943     0.414   \n",
       "4   100004       175.864                       16.915       134.805    16.405   \n",
       "\n",
       "   DER_deltaeta_jet_jet  DER_mass_jet_jet  DER_prodeta_jet_jet  \\\n",
       "0                  0.91           124.711                2.666   \n",
       "1               -999.00          -999.000             -999.000   \n",
       "2               -999.00          -999.000             -999.000   \n",
       "3               -999.00          -999.000             -999.000   \n",
       "4               -999.00          -999.000             -999.000   \n",
       "\n",
       "   DER_deltar_tau_lep  DER_pt_tot  ...  PRI_jet_leading_eta  \\\n",
       "0               3.064      41.928  ...                2.150   \n",
       "1               3.473       2.078  ...                0.725   \n",
       "2               3.148       9.336  ...                2.053   \n",
       "3               3.310       0.414  ...             -999.000   \n",
       "4               3.891      16.405  ...             -999.000   \n",
       "\n",
       "   PRI_jet_leading_phi  PRI_jet_subleading_pt  PRI_jet_subleading_eta  \\\n",
       "0                0.444                 46.062                    1.24   \n",
       "1                1.158               -999.000                 -999.00   \n",
       "2               -2.028               -999.000                 -999.00   \n",
       "3             -999.000               -999.000                 -999.00   \n",
       "4             -999.000               -999.000                 -999.00   \n",
       "\n",
       "   PRI_jet_subleading_phi  PRI_jet_all_pt    Weight  Label  KaggleSet  \\\n",
       "0                  -2.475         113.497  0.000814      s          t   \n",
       "1                -999.000          46.226  0.681042      b          t   \n",
       "2                -999.000          44.251  0.715742      b          t   \n",
       "3                -999.000          -0.000  1.660654      b          t   \n",
       "4                -999.000           0.000  1.904263      b          t   \n",
       "\n",
       "   KaggleWeight  \n",
       "0      0.002653  \n",
       "1      2.233584  \n",
       "2      2.347389  \n",
       "3      5.446378  \n",
       "4      6.245333  \n",
       "\n",
       "[5 rows x 35 columns]"
      ]
     },
     "execution_count": 3,
     "metadata": {},
     "output_type": "execute_result"
    }
   ],
   "source": [
    "df.head()"
   ]
  },
  {
   "cell_type": "markdown",
   "metadata": {},
   "source": [
    "We will only use the \"derived quantities\""
   ]
  },
  {
   "cell_type": "code",
   "execution_count": 4,
   "metadata": {},
   "outputs": [],
   "source": [
    "der_columns = [col for col in df.columns if \"DER\" in col]"
   ]
  },
  {
   "cell_type": "code",
   "execution_count": 5,
   "metadata": {},
   "outputs": [
    {
     "data": {
      "text/plain": [
       "['DER_mass_MMC',\n",
       " 'DER_mass_transverse_met_lep',\n",
       " 'DER_mass_vis',\n",
       " 'DER_pt_h',\n",
       " 'DER_deltaeta_jet_jet',\n",
       " 'DER_mass_jet_jet',\n",
       " 'DER_prodeta_jet_jet',\n",
       " 'DER_deltar_tau_lep',\n",
       " 'DER_pt_tot',\n",
       " 'DER_sum_pt',\n",
       " 'DER_pt_ratio_lep_tau',\n",
       " 'DER_met_phi_centrality',\n",
       " 'DER_lep_eta_centrality']"
      ]
     },
     "execution_count": 5,
     "metadata": {},
     "output_type": "execute_result"
    }
   ],
   "source": [
    "der_columns"
   ]
  },
  {
   "cell_type": "markdown",
   "metadata": {},
   "source": [
    "Lets plot their distributions to find a reasonable set of cuts to scan"
   ]
  },
  {
   "cell_type": "code",
   "execution_count": 6,
   "metadata": {},
   "outputs": [],
   "source": [
    "def plot_var(df, col, mask, ax):\n",
    "    var = df[col]\n",
    "    label = df.Label\n",
    "    var = var[mask]\n",
    "    label = label[mask]\n",
    "    weights = df.KaggleWeight[mask]\n",
    "    hist_range = np.quantile(var, [0.01, 0.99]) # plot in 1-99% range\n",
    "    opts = dict(alpha=0.5, density=True, bins=100, range=hist_range)\n",
    "    ax.hist(var[label==\"b\"], weights=weights[label==\"b\"], **opts)\n",
    "    ax.hist(var[label==\"s\"], weights=weights[label==\"s\"], **opts)\n",
    "    ax.set_xlabel(col)"
   ]
  },
  {
   "cell_type": "code",
   "execution_count": 7,
   "metadata": {},
   "outputs": [
    {
     "data": {
      "image/png": "[encoded data removed]",
      "text/plain": [
       "<Figure size 1080x1440 with 15 Axes>"
      ]
     },
     "metadata": {
      "needs_background": "light"
     },
     "output_type": "display_data"
    }
   ],
   "source": [
    "fig, axs = plt.subplots(figsize=(15, 20), nrows=(len(der_columns) // 3) + 1, ncols=3)\n",
    "for col, ax in zip(der_columns, np.array(axs).ravel()):\n",
    "    plot_var(df, col, df[col] != -999, ax)\n",
    "fig.tight_layout()"
   ]
  },
  {
   "cell_type": "markdown",
   "metadata": {},
   "source": [
    "## Define the cuts\n",
    "Now define a range of cuts to scan, some lower bounds and some upper bounds. For some variables it makes sense to scan both upper and lower bounds. The strings are meant to put into [`DataFrame.eval`](https://pandas.pydata.org/pandas-docs/version/0.23.4/generated/pandas.DataFrame.eval.html?highlight=eval#pandas.DataFrame.eval). Feel free to experiment with this. We order all cuts such that the requirement which passes most events comes first. This is not strictly necessary (the \"histogramdd\" method in `ahoi` allows both increasing and decreasing selections), but helps since we want to add one cut that passes all events for each variable later that should be the first one."
   ]
  },
  {
   "cell_type": "code",
   "execution_count": 8,
   "metadata": {},
   "outputs": [
    {
     "data": {
      "text/plain": [
       "[('DER_mass_MMC > {}', [75, 97, 120]),\n",
       " ('DER_mass_MMC < {}', [175, 157, 140]),\n",
       " ('DER_mass_transverse_met_lep < {}', [80, 55, 30]),\n",
       " ('DER_deltaeta_jet_jet > {}', [2, 3, 5]),\n",
       " ('DER_mass_jet_jet > {}', [100, 300, 500]),\n",
       " ('DER_prodeta_jet_jet < {}', [0, -5, -10]),\n",
       " ('DER_deltar_tau_lep > {}', [2.0, 2.35, 2.7]),\n",
       " ('DER_deltar_tau_lep < {}', [4.0, 3.6, 3.2]),\n",
       " ('DER_pt_ratio_lep_tau < {}', [2.0, 1.5, 1.0]),\n",
       " ('DER_met_phi_centrality > {}', [0.0, 0.68, 1.35]),\n",
       " ('DER_lep_eta_centrality > {}', [0.5, 0.72, 0.95])]"
      ]
     },
     "execution_count": 8,
     "metadata": {},
     "output_type": "execute_result"
    }
   ],
   "source": [
    "ncuts = 3 # number of cuts to check per variable\n",
    "cuts = [\n",
    "    (\"DER_mass_MMC > {}\", list(np.linspace(75, 120, ncuts, dtype=int))),\n",
    "    (\"DER_mass_MMC < {}\", list(np.linspace(175, 140, ncuts, dtype=int))),\n",
    "    (\"DER_mass_transverse_met_lep < {}\", list(np.linspace(80, 30, ncuts, dtype=int))),\n",
    "    (\"DER_deltaeta_jet_jet > {}\", list(np.linspace(2, 5, ncuts, dtype=int))),\n",
    "    (\"DER_mass_jet_jet > {}\", list(np.linspace(100, 500, ncuts, dtype=int))),\n",
    "    (\"DER_prodeta_jet_jet < {}\", list(np.linspace(0, -10, ncuts, dtype=int))),\n",
    "    (\"DER_deltar_tau_lep > {}\", list(np.round(np.linspace(2, 2.7, ncuts), 2))),\n",
    "    (\"DER_deltar_tau_lep < {}\", list(np.round(np.linspace(4, 3.2, ncuts), 2))),\n",
    "    (\"DER_pt_ratio_lep_tau < {}\", list(np.round(np.linspace(2, 1, ncuts), 2))),\n",
    "    (\"DER_met_phi_centrality > {}\", list(np.round(np.linspace(0, 1.35, ncuts), 2))),\n",
    "    (\"DER_lep_eta_centrality > {}\", list(np.round(np.linspace(0.5, 0.95, ncuts), 2))),\n",
    "]\n",
    "cuts"
   ]
  },
  {
   "cell_type": "markdown",
   "metadata": {},
   "source": [
    "We will add an extra cut for each variable later that consists of no cut - giving us the possibility to leave out any criterion completely (that's why there is a `+1` in the formula below)."
   ]
  },
  {
   "cell_type": "code",
   "execution_count": 9,
   "metadata": {},
   "outputs": [
    {
     "name": "stdout",
     "output_type": "stream",
     "text": [
      "We will scan 4194304 combinations - might take around 384.0 MiB of memory\n"
     ]
    }
   ],
   "source": [
    "ncomb = np.prod([len(cut[1]) + 1 for cut in cuts])\n",
    "# 3 arrays (counts, sumw, sumw2) and 8 bytes per number\n",
    "# furthermore we will scan for signal/background (factor 2)\n",
    "# and train test (another factor 2)\n",
    "memory_mib = ncomb * 8 * 3 * 2 * 2/ 1024 / 1024 \n",
    "print(f\"We will scan {ncomb} combinations - might take around {memory_mib} MiB of memory\")"
   ]
  },
  {
   "cell_type": "markdown",
   "metadata": {},
   "source": [
    "Let's define a function that will give us a cut expression for a given multi_index later. We will define the indices such that the first index of each variable corresponds to no cut at all."
   ]
  },
  {
   "cell_type": "code",
   "execution_count": 10,
   "metadata": {},
   "outputs": [],
   "source": [
    "def print_selection(multi_index):\n",
    "    for i, (expr, vals) in zip(multi_index, cuts):\n",
    "        if i == 0:\n",
    "            continue\n",
    "        print(expr.format(vals[i-1]))"
   ]
  },
  {
   "cell_type": "code",
   "execution_count": 11,
   "metadata": {},
   "outputs": [
    {
     "data": {
      "text/plain": [
       "array([3, 0, 1, 2, 0, 2, 3, 3, 3, 2, 1])"
      ]
     },
     "execution_count": 11,
     "metadata": {},
     "output_type": "execute_result"
    }
   ],
   "source": [
    "random_index = np.random.randint(ncuts+1, size=len(cuts))\n",
    "random_index"
   ]
  },
  {
   "cell_type": "code",
   "execution_count": 12,
   "metadata": {},
   "outputs": [
    {
     "name": "stdout",
     "output_type": "stream",
     "text": [
      "DER_mass_MMC > 120\n",
      "DER_mass_transverse_met_lep < 80\n",
      "DER_deltaeta_jet_jet > 3\n",
      "DER_prodeta_jet_jet < -5\n",
      "DER_deltar_tau_lep > 2.7\n",
      "DER_deltar_tau_lep < 3.2\n",
      "DER_pt_ratio_lep_tau < 1.0\n",
      "DER_met_phi_centrality > 0.68\n",
      "DER_lep_eta_centrality > 0.5\n"
     ]
    }
   ],
   "source": [
    "print_selection(random_index)"
   ]
  },
  {
   "cell_type": "markdown",
   "metadata": {},
   "source": [
    "Now we need to check which events pass each selection. Remember again, we want to define the first selection for each variable such that all events pass. We want to split our dataset into a \"training\" and \"testing\" part (50:50). To do so, we add a random selection of 50% each as a first requirement.\n",
    "Furthermore we want to scan separately for signal and background, so we just add the label as a first cut.\n",
    "\n",
    "The `masks_list` is a list of 2D arrays of booleans that tell us which event passes which criterion."
   ]
  },
  {
   "cell_type": "code",
   "execution_count": 13,
   "metadata": {},
   "outputs": [],
   "source": [
    "random_selection = np.random.rand(len(df)) > 0.5 # for train/test"
   ]
  },
  {
   "cell_type": "code",
   "execution_count": 14,
   "metadata": {},
   "outputs": [],
   "source": [
    "masks_list = []\n",
    "masks_list.insert(0, np.array([random_selection, ~random_selection]))\n",
    "masks_list.insert(1, np.array([(df.Label==\"b\").values, (df.Label==\"s\").values]))\n",
    "for expr, vals in cuts:\n",
    "    masks = [df.eval(expr.format(val)).values for val in vals]\n",
    "    pass_all = np.ones(len(df), dtype=np.bool)\n",
    "    # this is a cut that matches decreasing numbers of events\n",
    "    masks.insert(0, pass_all)\n",
    "    masks_list.append(np.array(masks, dtype=np.bool))"
   ]
  },
  {
   "cell_type": "code",
   "execution_count": 15,
   "metadata": {},
   "outputs": [
    {
     "data": {
      "text/plain": [
       "[array([[False,  True,  True, ...,  True,  True, False],\n",
       "        [ True, False, False, ..., False, False,  True]]),\n",
       " array([[False,  True,  True, ...,  True,  True,  True],\n",
       "        [ True, False, False, ..., False, False, False]]),\n",
       " array([[ True,  True,  True, ...,  True,  True,  True],\n",
       "        [ True,  True, False, ...,  True,  True,  True],\n",
       "        [ True,  True, False, ...,  True, False, False],\n",
       "        [ True,  True, False, ..., False, False, False]]),\n",
       " array([[ True,  True,  True, ...,  True,  True,  True],\n",
       "        [ True,  True,  True, ...,  True,  True,  True],\n",
       "        [ True, False,  True, ...,  True,  True,  True],\n",
       "        [ True, False,  True, ...,  True,  True,  True]]),\n",
       " array([[ True,  True,  True, ...,  True,  True,  True],\n",
       "        [ True,  True, False, ...,  True,  True, False],\n",
       "        [ True, False, False, ...,  True,  True, False],\n",
       "        [False, False, False, ...,  True,  True, False]]),\n",
       " array([[ True,  True,  True, ...,  True,  True,  True],\n",
       "        [False, False, False, ..., False, False, False],\n",
       "        [False, False, False, ..., False, False, False],\n",
       "        [False, False, False, ..., False, False, False]]),\n",
       " array([[ True,  True,  True, ...,  True,  True,  True],\n",
       "        [ True, False, False, ..., False, False, False],\n",
       "        [False, False, False, ..., False, False, False],\n",
       "        [False, False, False, ..., False, False, False]]),\n",
       " array([[ True,  True,  True, ...,  True,  True,  True],\n",
       "        [False,  True,  True, ...,  True,  True,  True],\n",
       "        [False,  True,  True, ...,  True,  True,  True],\n",
       "        [False,  True,  True, ...,  True,  True,  True]]),\n",
       " array([[ True,  True,  True, ...,  True,  True,  True],\n",
       "        [ True,  True,  True, ...,  True,  True,  True],\n",
       "        [ True,  True,  True, ...,  True,  True,  True],\n",
       "        [ True,  True,  True, ...,  True, False, False]]),\n",
       " array([[ True,  True,  True, ...,  True,  True,  True],\n",
       "        [ True,  True,  True, ...,  True,  True,  True],\n",
       "        [ True,  True,  True, ...,  True,  True,  True],\n",
       "        [ True, False,  True, ...,  True,  True,  True]]),\n",
       " array([[ True,  True,  True, ...,  True,  True,  True],\n",
       "        [ True,  True, False, ...,  True,  True,  True],\n",
       "        [False,  True, False, ...,  True,  True, False],\n",
       "        [False,  True, False, ...,  True,  True, False]]),\n",
       " array([[ True,  True,  True, ...,  True,  True,  True],\n",
       "        [ True,  True,  True, ..., False,  True, False],\n",
       "        [ True,  True,  True, ..., False,  True, False],\n",
       "        [ True,  True,  True, ..., False,  True, False]]),\n",
       " array([[ True,  True,  True, ...,  True,  True,  True],\n",
       "        [False, False, False, ..., False, False, False],\n",
       "        [False, False, False, ..., False, False, False],\n",
       "        [False, False, False, ..., False, False, False]])]"
      ]
     },
     "execution_count": 15,
     "metadata": {},
     "output_type": "execute_result"
    }
   ],
   "source": [
    "masks_list"
   ]
  },
  {
   "cell_type": "markdown",
   "metadata": {},
   "source": [
    "Now, let's scan them all using `ahoi`!"
   ]
  },
  {
   "cell_type": "code",
   "execution_count": 16,
   "metadata": {},
   "outputs": [],
   "source": [
    "counts, sumw, sumw2 = ahoi.scan(masks_list, weights=df.Weight.values)"
   ]
  },
  {
   "cell_type": "code",
   "execution_count": 17,
   "metadata": {},
   "outputs": [
    {
     "data": {
      "text/plain": [
       "(2, 2, 4, 4, 4, 4, 4, 4, 4, 4, 4, 4, 4)"
      ]
     },
     "execution_count": 17,
     "metadata": {},
     "output_type": "execute_result"
    }
   ],
   "source": [
    "counts.shape"
   ]
  },
  {
   "cell_type": "markdown",
   "metadata": {},
   "source": [
    "since we scanned the random selection for train/test as the first selection, signal/background as the second one, we can get the numbers for signal/background/train/test by the following"
   ]
  },
  {
   "cell_type": "code",
   "execution_count": 18,
   "metadata": {},
   "outputs": [],
   "source": [
    "sumw_train_b = sumw[0][0]\n",
    "sumw_train_s = sumw[0][1]\n",
    "sumw_test_b = sumw[1][0]\n",
    "sumw_test_s = sumw[1][1]"
   ]
  },
  {
   "cell_type": "markdown",
   "metadata": {},
   "source": [
    "## ROC curve and final metric\n",
    "Next, we want to fill the ROC curve. To do so we need to decide against which base rate we want to calculate the true and false positive rates."
   ]
  },
  {
   "cell_type": "code",
   "execution_count": 19,
   "metadata": {},
   "outputs": [
    {
     "name": "stderr",
     "output_type": "stream",
     "text": [
      " 99%|█████████▉| 100/101 [00:00<00:00, 130.88it/s]\n"
     ]
    }
   ],
   "source": [
    "base_b = df[(df.Label==\"b\")].Weight.sum()\n",
    "base_s = df[(df.Label==\"s\")].Weight.sum()\n",
    "train_factor = np.count_nonzero(random_selection) / len(df) # we only selected a random subset\n",
    "base_b_train = base_b * train_factor\n",
    "base_s_train = base_s * train_factor\n",
    "fpr_train, tpr_train, roc_ids = ahoi.roc_curve(sumw[0], base_b_train, base_s_train, bins=100)"
   ]
  },
  {
   "cell_type": "markdown",
   "metadata": {},
   "source": [
    "We can compare to the test set by picking the same combinations (using the `roc_ids` returned by `ahoi.roc_curve`)"
   ]
  },
  {
   "cell_type": "code",
   "execution_count": 20,
   "metadata": {},
   "outputs": [],
   "source": [
    "test_factor = np.count_nonzero(~random_selection) / len(df)\n",
    "base_b_test = base_b * test_factor\n",
    "base_s_test = base_s * test_factor\n",
    "fpr_test = (sumw_test_b / base_b_test).ravel()[roc_ids]\n",
    "tpr_test = (sumw_test_s / base_s_test).ravel()[roc_ids]"
   ]
  },
  {
   "cell_type": "code",
   "execution_count": 21,
   "metadata": {},
   "outputs": [
    {
     "data": {
      "text/plain": [
       "<matplotlib.legend.Legend at 0x7fb79b8a2208>"
      ]
     },
     "execution_count": 21,
     "metadata": {},
     "output_type": "execute_result"
    },
    {
     "data": {
      "image/png": "[encoded data removed]",
      "text/plain": [
       "<Figure size 432x288 with 1 Axes>"
      ]
     },
     "metadata": {
      "needs_background": "light"
     },
     "output_type": "display_data"
    }
   ],
   "source": [
    "plt.plot(tpr_train, 1 - fpr_train, label=\"train\")\n",
    "plt.plot(tpr_test, 1 - fpr_test, label=\"test\")\n",
    "plt.xlabel(\"true positive rate\")\n",
    "plt.ylabel(\"1 - false positive rate\")\n",
    "plt.legend()"
   ]
  },
  {
   "cell_type": "code",
   "execution_count": 22,
   "metadata": {},
   "outputs": [
    {
     "name": "stderr",
     "output_type": "stream",
     "text": [
      "/home/n/Nikolai.Hartmann/.local/lib/python3.6/site-packages/ipykernel_launcher.py:1: RuntimeWarning: divide by zero encountered in true_divide\n",
      "  \"\"\"Entry point for launching an IPython kernel.\n"
     ]
    },
    {
     "data": {
      "text/plain": [
       "<matplotlib.legend.Legend at 0x7fb79a0562b0>"
      ]
     },
     "execution_count": 22,
     "metadata": {},
     "output_type": "execute_result"
    },
    {
     "data": {
      "image/png": "[encoded data removed]",
      "text/plain": [
       "<Figure size 432x288 with 1 Axes>"
      ]
     },
     "metadata": {
      "needs_background": "light"
     },
     "output_type": "display_data"
    }
   ],
   "source": [
    "plt.plot(tpr_train, 1. / fpr_train, label=\"train\")\n",
    "plt.plot(tpr_test, 1. / fpr_test, label=\"test\")\n",
    "plt.yscale(\"log\")\n",
    "plt.xlabel(\"true positive rate\")\n",
    "plt.ylabel(\"1 / false positive rate\")\n",
    "plt.legend()"
   ]
  },
  {
   "cell_type": "markdown",
   "metadata": {},
   "source": [
    "Now, scan the approximate median significance (ams) that was the metric to optimize in this challenge"
   ]
  },
  {
   "cell_type": "code",
   "execution_count": 23,
   "metadata": {},
   "outputs": [],
   "source": [
    "def get_ams(s,b):\n",
    "    # The number 10, added to the background yield, is a regularization term to decrease the variance of the AMS.\n",
    "    return np.sqrt(2*((s+b+10)*np.log(1+s/(b+10))-s))"
   ]
  },
  {
   "cell_type": "markdown",
   "metadata": {},
   "source": [
    "for that we need to get the correctly weighted total rates for signal and background (on the ROC curve). This time we need to scale them up (divide by the factor determined above)."
   ]
  },
  {
   "cell_type": "code",
   "execution_count": 24,
   "metadata": {},
   "outputs": [],
   "source": [
    "sumw_train_s_roc = sumw_train_s.ravel()[roc_ids] / train_factor\n",
    "sumw_train_b_roc = sumw_train_b.ravel()[roc_ids] / train_factor\n",
    "sumw_test_s_roc = sumw_test_s.ravel()[roc_ids] / test_factor\n",
    "sumw_test_b_roc = sumw_test_b.ravel()[roc_ids] / test_factor"
   ]
  },
  {
   "cell_type": "code",
   "execution_count": 25,
   "metadata": {},
   "outputs": [
    {
     "data": {
      "text/plain": [
       "<matplotlib.legend.Legend at 0x7fb79bc23fd0>"
      ]
     },
     "execution_count": 25,
     "metadata": {},
     "output_type": "execute_result"
    },
    {
     "data": {
      "image/png": "[encoded data removed]",
      "text/plain": [
       "<Figure size 432x288 with 1 Axes>"
      ]
     },
     "metadata": {
      "needs_background": "light"
     },
     "output_type": "display_data"
    }
   ],
   "source": [
    "plt.plot(tpr_train, get_ams(sumw_train_s_roc, sumw_train_b_roc), label=\"train\")\n",
    "plt.plot(tpr_test, get_ams(sumw_test_s_roc, sumw_test_b_roc), label=\"test\")\n",
    "plt.xlabel(\"true positive rate\")\n",
    "plt.ylabel(\"AMS\")\n",
    "plt.legend()"
   ]
  },
  {
   "cell_type": "markdown",
   "metadata": {},
   "source": [
    "Print the selection for the best AMS value"
   ]
  },
  {
   "cell_type": "code",
   "execution_count": 26,
   "metadata": {},
   "outputs": [
    {
     "data": {
      "text/plain": [
       "2.374884225547454"
      ]
     },
     "execution_count": 26,
     "metadata": {},
     "output_type": "execute_result"
    }
   ],
   "source": [
    "ams_values = get_ams(sumw_test_s_roc, sumw_test_b_roc)\n",
    "ams_values.max()"
   ]
  },
  {
   "cell_type": "code",
   "execution_count": 27,
   "metadata": {},
   "outputs": [
    {
     "data": {
      "text/plain": [
       "23"
      ]
     },
     "execution_count": 27,
     "metadata": {},
     "output_type": "execute_result"
    }
   ],
   "source": [
    "ams_argmax = np.argmax(ams_values)\n",
    "ams_argmax"
   ]
  },
  {
   "cell_type": "code",
   "execution_count": 28,
   "metadata": {},
   "outputs": [
    {
     "data": {
      "text/plain": [
       "0.2332759256163278"
      ]
     },
     "execution_count": 28,
     "metadata": {},
     "output_type": "execute_result"
    }
   ],
   "source": [
    "tpr_test[ams_argmax]"
   ]
  },
  {
   "cell_type": "code",
   "execution_count": 29,
   "metadata": {},
   "outputs": [
    {
     "data": {
      "text/plain": [
       "3866784"
      ]
     },
     "execution_count": 29,
     "metadata": {},
     "output_type": "execute_result"
    }
   ],
   "source": [
    "roc_ids[ams_argmax]"
   ]
  },
  {
   "cell_type": "code",
   "execution_count": 30,
   "metadata": {},
   "outputs": [
    {
     "data": {
      "text/plain": [
       "(3, 2, 3, 0, 0, 0, 0, 2, 2, 0, 0)"
      ]
     },
     "execution_count": 30,
     "metadata": {},
     "output_type": "execute_result"
    }
   ],
   "source": [
    "cut_indices = np.unravel_index(roc_ids[ams_argmax], counts.shape)[2:]\n",
    "cut_indices"
   ]
  },
  {
   "cell_type": "code",
   "execution_count": 31,
   "metadata": {},
   "outputs": [
    {
     "name": "stdout",
     "output_type": "stream",
     "text": [
      "DER_mass_MMC > 120\n",
      "DER_mass_MMC < 157\n",
      "DER_mass_transverse_met_lep < 30\n",
      "DER_deltar_tau_lep < 3.6\n",
      "DER_pt_ratio_lep_tau < 1.5\n"
     ]
    }
   ],
   "source": [
    "print_selection(cut_indices)"
   ]
  },
  {
   "cell_type": "markdown",
   "metadata": {},
   "source": [
    "We can see, a lot of variables have not been used. It might be worth repeating the scan with less variables and finer granularity!"
   ]
  }
 ],
 "metadata": {
  "kernelspec": {
   "display_name": "Python 3",
   "language": "python",
   "name": "python3"
  },
  "language_info": {
   "codemirror_mode": {
    "name": "ipython",
    "version": 3
   },
   "file_extension": ".py",
   "mimetype": "text/x-python",
   "name": "python",
   "nbconvert_exporter": "python",
   "pygments_lexer": "ipython3",
   "version": "3.6.7"
  }
 },
 "nbformat": 4,
 "nbformat_minor": 2
}
